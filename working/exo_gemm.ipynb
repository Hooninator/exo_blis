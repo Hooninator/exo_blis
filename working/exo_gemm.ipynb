{
 "cells": [
  {
   "cell_type": "code",
   "execution_count": 1,
   "metadata": {},
   "outputs": [],
   "source": [
    "from __future__ import annotations\n",
    "from exo import *\n",
    "from exo.libs.memories import DRAM_STATIC\n",
    "from exo.platforms.x86 import *\n",
    "from exo.syntax import *"
   ]
  },
  {
   "cell_type": "code",
   "execution_count": 2,
   "metadata": {},
   "outputs": [],
   "source": [
    "\n",
    "def print_output(fn):\n",
    "    out = fn.c_code_str()\n",
    "    print(out.split(\"#include <stdio.h>\")[1])"
   ]
  },
  {
   "cell_type": "code",
   "execution_count": 4,
   "metadata": {},
   "outputs": [
    {
     "name": "stdout",
     "output_type": "stream",
     "text": [
      "\n",
      "#include <stdlib.h>\n",
      "\n",
      "\n",
      "// SGEMM(\n",
      "//     M : size,\n",
      "//     N : size,\n",
      "//     K : size,\n",
      "//     A : f32[M,K]  @DRAM,\n",
      "//     B : f32[K,N]  @DRAM,\n",
      "//     C : f32[M,N]  @DRAM\n",
      "// )\n",
      "void SGEMM( c_code_str_Context *ctxt, int_fast32_t M, int_fast32_t N, int_fast32_t K, float* A, float* B, float* C ) {\n",
      "EXO_ASSUME(M >= 1);\n",
      "EXO_ASSUME(N >= 1);\n",
      "EXO_ASSUME(K >= 1);\n",
      "EXO_ASSUME(1 == 1);\n",
      "EXO_ASSUME(1 == 1);\n",
      "EXO_ASSUME(1 == 1);\n",
      "for (int k = 0; k < K; k++) {\n",
      "  for (int i = 0; i < M; i++) {\n",
      "    for (int j = 0; j < N; j++) {\n",
      "      C[(i) * (N) + (j) * (1)] += A[(i) * (K) + (k) * (1)] * B[(k) * (N) + (j) * (1)];\n",
      "    }\n",
      "  }\n",
      "}\n",
      "}\n",
      "\n"
     ]
    }
   ],
   "source": [
    "\"\"\"\n",
    "Initial sgemm function\n",
    "\"\"\"\n",
    "@proc\n",
    "def SGEMM(M: size, N: size, K: size, A: f32[M, K], B: f32[K, N], C: f32[M, N]):\n",
    "    assert M >= 1\n",
    "    assert N >= 1\n",
    "    assert K >= 1\n",
    "    assert stride(A, 1) == 1\n",
    "    assert stride(B, 1) == 1\n",
    "    assert stride(C, 1) == 1\n",
    "\n",
    "    for k in par(0, K):\n",
    "        for i in par(0, M):\n",
    "            for j in par(0, N):\n",
    "                C[i, j] += A[i, k]*B[k, j]\n",
    "\n",
    "print_output(SGEMM)"
   ]
  },
  {
   "cell_type": "code",
   "execution_count": 5,
   "metadata": {},
   "outputs": [],
   "source": [
    "###Define kernel constants\n",
    "VEC_W = 16\n",
    "\n",
    "M_REG_BLK = 6\n",
    "N_REG_BLK = (4 * VEC_W)\n",
    "\n",
    "M_L1_FAC = 44\n",
    "N_L1_FAC = 1\n",
    "\n",
    "M_L1_BLK = M_REG_BLK * M_L1_FAC\n",
    "N_L1_BLK = N_REG_BLK * N_L1_FAC\n",
    "K_L1_BLK = 512\n",
    "\n",
    "basic_kernel_Mx4 = {}\n",
    "sgemm_kernel_avx512_Mx4 = {}"
   ]
  },
  {
   "cell_type": "code",
   "execution_count": 6,
   "metadata": {},
   "outputs": [
    {
     "name": "stdout",
     "output_type": "stream",
     "text": [
      "\n",
      "#include <stdlib.h>\n",
      "\n",
      "\n",
      "// basic_kernel_1x4(\n",
      "//     K : size,\n",
      "//     A : f32[1,K]  @DRAM,\n",
      "//     B : f32[K,64]  @DRAM,\n",
      "//     C : f32[1,64]  @DRAM\n",
      "// )\n",
      "void basic_kernel_1x4( c_code_str_Context *ctxt, int_fast32_t K, float* A, float* B, float* C ) {\n",
      "EXO_ASSUME(K >= 1);\n",
      "EXO_ASSUME(1 == 1);\n",
      "EXO_ASSUME(1 == 1);\n",
      "EXO_ASSUME(1 == 1);\n",
      "for (int k = 0; k < K; k++) {\n",
      "  for (int i = 0; i < 1; i++) {\n",
      "    for (int j = 0; j < 64; j++) {\n",
      "      C[(i) * (64) + (j) * (1)] += A[(i) * (K) + (k) * (1)] * B[(k) * (64) + (j) * (1)];\n",
      "    }\n",
      "  }\n",
      "}\n",
      "}\n",
      "\n"
     ]
    }
   ],
   "source": [
    "###Demonstration of partial_eval() and simplify()\n",
    "for M in range(1, M_REG_BLK+1):\n",
    "    basic_kernel_Mx4[M] = (\n",
    "        SGEMM\n",
    "            .rename(f'basic_kernel_{M}x4')\n",
    "            .partial_eval(M, N_REG_BLK)\n",
    "            .simplify()\n",
    "    )\n",
    "print_output(basic_kernel_Mx4[1])"
   ]
  },
  {
   "cell_type": "markdown",
   "metadata": {},
   "source": [
    "partial_eval(A, B)\n",
    "\n",
    "    replaces all references to loop variable A with the value 1, and replaces all references to the loop variable that is created within A to B\n",
    "    EXAMPLE\n",
    "    for (i:M)\n",
    "      for (j:N)\n",
    "    partial_eval(M, 64)\n",
    "    for (i:1)\n",
    "      for (j:64)"
   ]
  },
  {
   "cell_type": "markdown",
   "metadata": {},
   "source": [
    "simplify()\n",
    "\n",
    "    removes all statements that always evalute to true, such as assert(1==1)"
   ]
  },
  {
   "cell_type": "markdown",
   "metadata": {},
   "source": []
  },
  {
   "cell_type": "code",
   "execution_count": 7,
   "metadata": {},
   "outputs": [
    {
     "name": "stdout",
     "output_type": "stream",
     "text": [
      "\n",
      "#include <stdlib.h>\n",
      "\n",
      "\n",
      "// sgemm_kernel_avx512_1x4(\n",
      "//     K : size,\n",
      "//     A : f32[1,K]  @DRAM,\n",
      "//     B : f32[K,64]  @DRAM,\n",
      "//     C : f32[1,64]  @DRAM\n",
      "// )\n",
      "void sgemm_kernel_avx512_1x4( c_code_str_Context *ctxt, int_fast32_t K, float* A, float* B, float* C ) {\n",
      "EXO_ASSUME(K >= 1);\n",
      "EXO_ASSUME(1 == 1);\n",
      "EXO_ASSUME(1 == 1);\n",
      "EXO_ASSUME(1 == 1);\n",
      "for (int k = 0; k < K; k++) {\n",
      "  for (int i = 0; i < 1; i++) {\n",
      "    for (int jo = 0; jo < 4; jo++) {\n",
      "      for (int ji = 0; ji < 16; ji++) {\n",
      "        C[(i) * (64) + (16 * jo + ji) * (1)] += A[(i) * (K) + (k) * (1)] * B[(k) * (64) + (16 * jo + ji) * (1)];\n",
      "      }\n",
      "    }\n",
      "  }\n",
      "}\n",
      "}\n",
      "\n"
     ]
    }
   ],
   "source": [
    "###.split()\n",
    "for M in range(1, M_REG_BLK+1):\n",
    "    sgemm_kernel_avx512_Mx4[M] = (\n",
    "        basic_kernel_Mx4[M]\n",
    "            .rename(f'sgemm_kernel_avx512_{M}x4')\n",
    "            .split('j', VEC_W, ['jo', 'ji'], perfect=True)\n",
    "    )\n",
    "print_output(sgemm_kernel_avx512_Mx4[1])"
   ]
  },
  {
   "cell_type": "markdown",
   "metadata": {},
   "source": [
    ".split(loop_var, N, split_loop_names)\n",
    "\n",
    "    splits the loop with variable LOOP_VAR into an outer loop with variable        split_loop_names[0] and a inner loop with variable split_loop_names[1]\n",
    "    The upper bound of the new loops is determined in the following way:\n",
    "\n",
    "    The outer loop upper bound is the upper bound of the original loop / N\n",
    "    The inner loop upper bound is N\n",
    "\n",
    "    This could be very useful when writing blocking procedures, as well as when writing the macrokernels that schedule the calls to the GEMM microkernel "
   ]
  },
  {
   "cell_type": "markdown",
   "metadata": {},
   "source": [
    "for M in range(1, M_REG_BLK+1):\n",
    "    sgemm_kernel_avx512_Mx4[M] = (\n",
    "        sgemm_kernel_avx512_Mx4[M]\n",
    "            .par_to_seq('for k in _: _')\n",
    "    )\n",
    "print_output(sgemm_kernel_avx512_Mx4[1])"
   ]
  },
  {
   "cell_type": "markdown",
   "metadata": {},
   "source": []
  },
  {
   "cell_type": "code",
   "execution_count": 8,
   "metadata": {},
   "outputs": [
    {
     "name": "stdout",
     "output_type": "stream",
     "text": [
      "\n",
      "#include <stdlib.h>\n",
      "\n",
      "\n",
      "// sgemm_kernel_avx512_1x4(\n",
      "//     K : size,\n",
      "//     A : f32[1,K]  @DRAM,\n",
      "//     B : f32[K,64]  @DRAM,\n",
      "//     C : f32[1,64]  @DRAM\n",
      "// )\n",
      "void sgemm_kernel_avx512_1x4( c_code_str_Context *ctxt, int_fast32_t K, float* A, float* B, float* C ) {\n",
      "EXO_ASSUME(K >= 1);\n",
      "EXO_ASSUME(1 == 1);\n",
      "EXO_ASSUME(1 == 1);\n",
      "EXO_ASSUME(1 == 1);\n",
      "for (int k = 0; k < K; k++) {\n",
      "  for (int i = 0; i < 1; i++) {\n",
      "    for (int jo = 0; jo < 4; jo++) {\n",
      "      for (int ji = 0; ji < 16; ji++) {\n",
      "        float C_reg;\n",
      "        C_reg = C[(i) * (64) + (16 * jo + ji) * (1)];\n",
      "        C_reg += A[(i) * (K) + (k) * (1)] * B[(k) * (64) + (16 * jo + ji) * (1)];\n",
      "        C[(i) * (64) + (16 * jo + ji) * (1)] = C_reg;\n",
      "      }\n",
      "    }\n",
      "  }\n",
      "}\n",
      "}\n",
      "\n"
     ]
    }
   ],
   "source": [
    "for M in range(1, M_REG_BLK+1):\n",
    "    sgemm_kernel_avx512_Mx4[M] = (\n",
    "        basic_kernel_Mx4[M]\n",
    "            .rename(f'sgemm_kernel_avx512_{M}x4')\n",
    "            .split('j', VEC_W, ['jo', 'ji'], perfect=True)\n",
    "            # Mark k as a reduction loop\n",
    "            .par_to_seq('for k in _: _')\n",
    "            # Stage C for reduction\n",
    "            .stage_assn('C_reg', 'C[_] += _')\n",
    "    )\n",
    "print_output(sgemm_kernel_avx512_Mx4[1])"
   ]
  },
  {
   "cell_type": "markdown",
   "metadata": {},
   "source": [
    ".stage_assn(var, pattern)\n",
    "\n",
    "    Turns the line that matches PATTERN into the following block of code.\n",
    "    First, create a float named VAR\n",
    "    Second, read the memory originally read by PATTERN into VAR\n",
    "    Third, perform the write operation originally performed in PATTEN on VAR\n",
    "    Finally, write VAR to the memory location read in step 2\n",
    "\n",
    "    Example:\n",
    "    C[i] += A[i]*B[i]\n",
    "    .stage_assn(C_reg, C[_] += _)\n",
    "    C_reg = C[i]\n",
    "    C_reg += A[i]*B[i]\n",
    "    C[i] = C_reg\n",
    "    "
   ]
  },
  {
   "cell_type": "code",
   "execution_count": 9,
   "metadata": {},
   "outputs": [
    {
     "name": "stdout",
     "output_type": "stream",
     "text": [
      "\n",
      "#include <stdlib.h>\n",
      "\n",
      "\n",
      "// sgemm_kernel_avx512_1x4(\n",
      "//     K : size,\n",
      "//     A : f32[1,K]  @DRAM,\n",
      "//     B : f32[K,64]  @DRAM,\n",
      "//     C : f32[1,64]  @DRAM\n",
      "// )\n",
      "void sgemm_kernel_avx512_1x4( c_code_str_Context *ctxt, int_fast32_t K, float* A, float* B, float* C ) {\n",
      "EXO_ASSUME(K >= 1);\n",
      "EXO_ASSUME(1 == 1);\n",
      "EXO_ASSUME(1 == 1);\n",
      "EXO_ASSUME(1 == 1);\n",
      "float *C_reg = malloc(1 * 4 * 16 * sizeof(*C_reg));\n",
      "for (int k = 0; k < K; k++) {\n",
      "  for (int i = 0; i < 1; i++) {\n",
      "    for (int jo = 0; jo < 4; jo++) {\n",
      "      for (int ji = 0; ji < 16; ji++) {\n",
      "        C_reg[(i) * (4 * 16) + (jo) * (16) + (ji) * (1)] = C[(i) * (64) + (16 * jo + ji) * (1)];\n",
      "        C_reg[(i) * (4 * 16) + (jo) * (16) + (ji) * (1)] += A[(i) * (K) + (k) * (1)] * B[(k) * (64) + (16 * jo + ji) * (1)];\n",
      "        C[(i) * (64) + (16 * jo + ji) * (1)] = C_reg[(i) * (4 * 16) + (jo) * (16) + (ji) * (1)];\n",
      "      }\n",
      "    }\n",
      "  }\n",
      "}\n",
      "free(C_reg);\n",
      "}\n",
      "\n"
     ]
    }
   ],
   "source": [
    "for M in range(1, M_REG_BLK+1):\n",
    "    sgemm_kernel_avx512_Mx4[M] = (\n",
    "        basic_kernel_Mx4[M]\n",
    "            .rename(f'sgemm_kernel_avx512_{M}x4')\n",
    "            .split('j', VEC_W, ['jo', 'ji'], perfect=True)\n",
    "            # Mark k as a reduction loop\n",
    "            .par_to_seq('for k in _: _')\n",
    "            # Stage C for reduction\n",
    "            .stage_assn('C_reg', 'C[_] += _')\n",
    "            .lift_alloc('C_reg: _', n_lifts=4)\n",
    "    )\n",
    "print_output(sgemm_kernel_avx512_Mx4[1])"
   ]
  },
  {
   "cell_type": "markdown",
   "metadata": {},
   "source": [
    ".lift_alloc(pattern, n_lifts)\n",
    "\n",
    "    moves the memory allocation matching PATTERN outside of N_LIFTS for loops\n",
    "    For each loop that PATTERN is lifted out of, the amount of memory allocated to it is multiplied by the upper bound of the loop. This appears to only happen if the upper bound is a static integer, i.e. it won't happen if the upper bound is a variable\n",
    "    Also changes the way in which PATTERN is accessed in its original location. The precise way it does so is a bit confusing, so I think it is easier to think of it in this way:\n",
    "    It lets you load contiguous sections of memory that are as large as the upper bound of the first for loop PATTERN is lifted out of. The number of contiguous sections you load is determined by the upper bounds of the other loops you lift PATTERN out of. This is useful for something like blocking, because you can assign a bunch of contiguous blocks.\n",
    "\n",
    "    Example:\n",
    "    for (int i=0; i<16; ++i) {\n",
    "        float C;\n",
    "        ...\n",
    "    }\n",
    "\n",
    "    .lift_alloc('C: _', n_lifts=1)\n",
    "    \n",
    "    float *C = malloc(sizeof(*C)*16)\n",
    "    for (int i=0; i<16; ++i) {\n",
    "        ...\n",
    "    }"
   ]
  },
  {
   "cell_type": "markdown",
   "metadata": {},
   "source": []
  },
  {
   "cell_type": "code",
   "execution_count": 10,
   "metadata": {},
   "outputs": [
    {
     "name": "stdout",
     "output_type": "stream",
     "text": [
      "\n",
      "#include <stdlib.h>\n",
      "\n",
      "\n",
      "// sgemm_kernel_avx512_1x4(\n",
      "//     K : size,\n",
      "//     A : f32[1,K]  @DRAM,\n",
      "//     B : f32[K,64]  @DRAM,\n",
      "//     C : f32[1,64]  @DRAM\n",
      "// )\n",
      "void sgemm_kernel_avx512_1x4( c_code_str_Context *ctxt, int_fast32_t K, float* A, float* B, float* C ) {\n",
      "EXO_ASSUME(K >= 1);\n",
      "EXO_ASSUME(1 == 1);\n",
      "EXO_ASSUME(1 == 1);\n",
      "EXO_ASSUME(1 == 1);\n",
      "float *C_reg = malloc(1 * 4 * 16 * sizeof(*C_reg));\n",
      "for (int i = 0; i < 1; i++) {\n",
      "  for (int jo = 0; jo < 4; jo++) {\n",
      "    for (int ji = 0; ji < 16; ji++) {\n",
      "      C_reg[(i) * (4 * 16) + (jo) * (16) + (ji) * (1)] = C[(i) * (64) + (16 * jo + ji) * (1)];\n",
      "    }\n",
      "  }\n",
      "}\n",
      "for (int k = 0; k < K; k++) {\n",
      "  for (int i = 0; i < 1; i++) {\n",
      "    for (int jo = 0; jo < 4; jo++) {\n",
      "      for (int ji = 0; ji < 16; ji++) {\n",
      "        C_reg[(i) * (4 * 16) + (jo) * (16) + (ji) * (1)] += A[(i) * (K) + (k) * (1)] * B[(k) * (64) + (16 * jo + ji) * (1)];\n",
      "      }\n",
      "    }\n",
      "  }\n",
      "}\n",
      "for (int i = 0; i < 1; i++) {\n",
      "  for (int jo = 0; jo < 4; jo++) {\n",
      "    for (int ji = 0; ji < 16; ji++) {\n",
      "      C[(i) * (64) + (16 * jo + ji) * (1)] = C_reg[(i) * (4 * 16) + (jo) * (16) + (ji) * (1)];\n",
      "    }\n",
      "  }\n",
      "}\n",
      "free(C_reg);\n",
      "}\n",
      "\n"
     ]
    }
   ],
   "source": [
    "for M in range(1, M_REG_BLK+1):\n",
    "    sgemm_kernel_avx512_Mx4[M] = (\n",
    "        basic_kernel_Mx4[M]\n",
    "            .rename(f'sgemm_kernel_avx512_{M}x4')\n",
    "            .split('j', VEC_W, ['jo', 'ji'], perfect=True)\n",
    "            # Mark k as a reduction loop\n",
    "            .par_to_seq('for k in _: _')\n",
    "            # Stage C for reduction\n",
    "            .stage_assn('C_reg', 'C[_] += _')\n",
    "            .lift_alloc('C_reg: _', n_lifts=4)\n",
    "            .double_fission('C_reg[_] = C[_]', 'C_reg[_] += _', n_lifts=4)\n",
    "    )\n",
    "print_output(sgemm_kernel_avx512_Mx4[1])"
   ]
  },
  {
   "cell_type": "markdown",
   "metadata": {},
   "source": [
    ".double_fission(pattern1, pattern2, n_lifts)\n",
    "\n",
    "    Lift PATTERN1 n_lifts loops above its current location and also copies the n_lifts-1 loops above PATTERN, wrapping pattern in those loops.\n",
    "\n",
    "    Does the same thing to PATTERN2, but it moves it below its original location instead of above. \n"
   ]
  },
  {
   "cell_type": "code",
   "execution_count": 12,
   "metadata": {},
   "outputs": [
    {
     "ename": "TypeError",
     "evalue": "issubclass() arg 1 must be a class",
     "output_type": "error",
     "traceback": [
      "\u001b[0;31m---------------------------------------------------------------------------\u001b[0m",
      "\u001b[0;31mTypeError\u001b[0m                                 Traceback (most recent call last)",
      "\u001b[1;32m/home/hooninator/exo_dev/working/exo_gemm.ipynb Cell 20'\u001b[0m in \u001b[0;36m<cell line: 1>\u001b[0;34m()\u001b[0m\n\u001b[1;32m      <a href='vscode-notebook-cell://ssh-remote%2B127.0.0.1/home/hooninator/exo_dev/working/exo_gemm.ipynb#ch0000019vscode-remote?line=0'>1</a>\u001b[0m \u001b[39mfor\u001b[39;00m M \u001b[39min\u001b[39;00m \u001b[39mrange\u001b[39m(\u001b[39m1\u001b[39m, M_REG_BLK\u001b[39m+\u001b[39m\u001b[39m1\u001b[39m):\n\u001b[1;32m      <a href='vscode-notebook-cell://ssh-remote%2B127.0.0.1/home/hooninator/exo_dev/working/exo_gemm.ipynb#ch0000019vscode-remote?line=1'>2</a>\u001b[0m     sgemm_kernel_avx512_Mx4[M] \u001b[39m=\u001b[39m (\n\u001b[1;32m      <a href='vscode-notebook-cell://ssh-remote%2B127.0.0.1/home/hooninator/exo_dev/working/exo_gemm.ipynb#ch0000019vscode-remote?line=2'>3</a>\u001b[0m         basic_kernel_Mx4[M]\n\u001b[1;32m      <a href='vscode-notebook-cell://ssh-remote%2B127.0.0.1/home/hooninator/exo_dev/working/exo_gemm.ipynb#ch0000019vscode-remote?line=3'>4</a>\u001b[0m             \u001b[39m.\u001b[39;49mrename(\u001b[39mf\u001b[39;49m\u001b[39m'\u001b[39;49m\u001b[39msgemm_kernel_avx512_\u001b[39;49m\u001b[39m{\u001b[39;49;00mM\u001b[39m}\u001b[39;49;00m\u001b[39mx4\u001b[39;49m\u001b[39m'\u001b[39;49m)\n\u001b[1;32m      <a href='vscode-notebook-cell://ssh-remote%2B127.0.0.1/home/hooninator/exo_dev/working/exo_gemm.ipynb#ch0000019vscode-remote?line=4'>5</a>\u001b[0m             \u001b[39m.\u001b[39;49msplit(\u001b[39m'\u001b[39;49m\u001b[39mj\u001b[39;49m\u001b[39m'\u001b[39;49m, VEC_W, [\u001b[39m'\u001b[39;49m\u001b[39mjo\u001b[39;49m\u001b[39m'\u001b[39;49m, \u001b[39m'\u001b[39;49m\u001b[39mji\u001b[39;49m\u001b[39m'\u001b[39;49m], perfect\u001b[39m=\u001b[39;49m\u001b[39mTrue\u001b[39;49;00m)\n\u001b[1;32m      <a href='vscode-notebook-cell://ssh-remote%2B127.0.0.1/home/hooninator/exo_dev/working/exo_gemm.ipynb#ch0000019vscode-remote?line=5'>6</a>\u001b[0m             \u001b[39m# Mark k as a reduction loop\u001b[39;49;00m\n\u001b[1;32m      <a href='vscode-notebook-cell://ssh-remote%2B127.0.0.1/home/hooninator/exo_dev/working/exo_gemm.ipynb#ch0000019vscode-remote?line=6'>7</a>\u001b[0m             \u001b[39m.\u001b[39;49mpar_to_seq(\u001b[39m'\u001b[39;49m\u001b[39mfor k in _: _\u001b[39;49m\u001b[39m'\u001b[39;49m)\n\u001b[1;32m      <a href='vscode-notebook-cell://ssh-remote%2B127.0.0.1/home/hooninator/exo_dev/working/exo_gemm.ipynb#ch0000019vscode-remote?line=7'>8</a>\u001b[0m             \u001b[39m# Stage C for reduction\u001b[39;49;00m\n\u001b[1;32m      <a href='vscode-notebook-cell://ssh-remote%2B127.0.0.1/home/hooninator/exo_dev/working/exo_gemm.ipynb#ch0000019vscode-remote?line=8'>9</a>\u001b[0m             \u001b[39m.\u001b[39;49mstage_assn(\u001b[39m'\u001b[39;49m\u001b[39mC_reg\u001b[39;49m\u001b[39m'\u001b[39;49m, \u001b[39m'\u001b[39;49m\u001b[39mC[_] += _\u001b[39;49m\u001b[39m'\u001b[39;49m)\n\u001b[1;32m     <a href='vscode-notebook-cell://ssh-remote%2B127.0.0.1/home/hooninator/exo_dev/working/exo_gemm.ipynb#ch0000019vscode-remote?line=9'>10</a>\u001b[0m             \u001b[39m.\u001b[39;49mlift_alloc(\u001b[39m'\u001b[39;49m\u001b[39mC_reg: _\u001b[39;49m\u001b[39m'\u001b[39;49m, n_lifts\u001b[39m=\u001b[39;49m\u001b[39m4\u001b[39;49m)\n\u001b[1;32m     <a href='vscode-notebook-cell://ssh-remote%2B127.0.0.1/home/hooninator/exo_dev/working/exo_gemm.ipynb#ch0000019vscode-remote?line=10'>11</a>\u001b[0m             \u001b[39m.\u001b[39;49mdouble_fission(\u001b[39m'\u001b[39;49m\u001b[39mC_reg[_] = C[_]\u001b[39;49m\u001b[39m'\u001b[39;49m, \u001b[39m'\u001b[39;49m\u001b[39mC_reg[_] += _\u001b[39;49m\u001b[39m'\u001b[39;49m, n_lifts\u001b[39m=\u001b[39;49m\u001b[39m4\u001b[39;49m)\n\u001b[0;32m---> <a href='vscode-notebook-cell://ssh-remote%2B127.0.0.1/home/hooninator/exo_dev/working/exo_gemm.ipynb#ch0000019vscode-remote?line=11'>12</a>\u001b[0m             \u001b[39m.\u001b[39;49mstage_expr(\u001b[39m'\u001b[39;49m\u001b[39mA_vec\u001b[39;49m\u001b[39m'\u001b[39;49m, \u001b[39m'\u001b[39;49m\u001b[39mA[_, _]\u001b[39;49m\u001b[39m'\u001b[39;49m)\n\u001b[1;32m     <a href='vscode-notebook-cell://ssh-remote%2B127.0.0.1/home/hooninator/exo_dev/working/exo_gemm.ipynb#ch0000019vscode-remote?line=12'>13</a>\u001b[0m             \u001b[39m.\u001b[39mstage_expr(\u001b[39m'\u001b[39m\u001b[39mB_vec\u001b[39m\u001b[39m'\u001b[39m, \u001b[39m'\u001b[39m\u001b[39mB[_, _]\u001b[39m\u001b[39m'\u001b[39m)\n\u001b[1;32m     <a href='vscode-notebook-cell://ssh-remote%2B127.0.0.1/home/hooninator/exo_dev/working/exo_gemm.ipynb#ch0000019vscode-remote?line=13'>14</a>\u001b[0m     )\n\u001b[1;32m     <a href='vscode-notebook-cell://ssh-remote%2B127.0.0.1/home/hooninator/exo_dev/working/exo_gemm.ipynb#ch0000019vscode-remote?line=14'>15</a>\u001b[0m print_output(sgemm_kernel_avx512_Mx4[\u001b[39m1\u001b[39m])\n",
      "File \u001b[0;32m~/Exo/exo/lib/python3.10/site-packages/exo/API.py:1009\u001b[0m, in \u001b[0;36mProcedure.stage_expr\u001b[0;34m(self, new_name, expr_pattern, memory, n_lifts)\u001b[0m\n\u001b[1;32m   <a href='file:///home/hooninator/Exo/exo/lib/python3.10/site-packages/exo/API.py?line=1004'>1005</a>\u001b[0m \u001b[39mdef\u001b[39;00m \u001b[39mstage_expr\u001b[39m(\u001b[39mself\u001b[39m, new_name, expr_pattern, memory\u001b[39m=\u001b[39m\u001b[39mNone\u001b[39;00m, n_lifts\u001b[39m=\u001b[39m\u001b[39m1\u001b[39m):\n\u001b[1;32m   <a href='file:///home/hooninator/Exo/exo/lib/python3.10/site-packages/exo/API.py?line=1005'>1006</a>\u001b[0m     \u001b[39mreturn\u001b[39;00m (\n\u001b[1;32m   <a href='file:///home/hooninator/Exo/exo/lib/python3.10/site-packages/exo/API.py?line=1006'>1007</a>\u001b[0m         \u001b[39mself\u001b[39;49m\u001b[39m.\u001b[39;49mbind_expr(new_name, expr_pattern)\n\u001b[1;32m   <a href='file:///home/hooninator/Exo/exo/lib/python3.10/site-packages/exo/API.py?line=1007'>1008</a>\u001b[0m             \u001b[39m.\u001b[39;49mlift_alloc(\u001b[39mf\u001b[39;49m\u001b[39m'\u001b[39;49m\u001b[39m{\u001b[39;49;00mnew_name\u001b[39m}\u001b[39;49;00m\u001b[39m: _\u001b[39;49m\u001b[39m'\u001b[39;49m, keep_dims\u001b[39m=\u001b[39;49m\u001b[39mTrue\u001b[39;49;00m, n_lifts\u001b[39m=\u001b[39;49mn_lifts)\n\u001b[0;32m-> <a href='file:///home/hooninator/Exo/exo/lib/python3.10/site-packages/exo/API.py?line=1008'>1009</a>\u001b[0m             \u001b[39m.\u001b[39;49mset_memory(new_name, memory)\n\u001b[1;32m   <a href='file:///home/hooninator/Exo/exo/lib/python3.10/site-packages/exo/API.py?line=1009'>1010</a>\u001b[0m             \u001b[39m.\u001b[39mfission_after(\u001b[39mf\u001b[39m\u001b[39m'\u001b[39m\u001b[39m{\u001b[39;00mnew_name\u001b[39m}\u001b[39;00m\u001b[39m = _\u001b[39m\u001b[39m'\u001b[39m, n_lifts\u001b[39m=\u001b[39mn_lifts)\n\u001b[1;32m   <a href='file:///home/hooninator/Exo/exo/lib/python3.10/site-packages/exo/API.py?line=1010'>1011</a>\u001b[0m     )\n",
      "File \u001b[0;32m~/Exo/exo/lib/python3.10/site-packages/exo/API.py:356\u001b[0m, in \u001b[0;36mProcedure.set_memory\u001b[0;34m(self, name, memory_type)\u001b[0m\n\u001b[1;32m    <a href='file:///home/hooninator/Exo/exo/lib/python3.10/site-packages/exo/API.py?line=353'>354</a>\u001b[0m \u001b[39mdef\u001b[39;00m \u001b[39mset_memory\u001b[39m(\u001b[39mself\u001b[39m, name, memory_type):\n\u001b[1;32m    <a href='file:///home/hooninator/Exo/exo/lib/python3.10/site-packages/exo/API.py?line=354'>355</a>\u001b[0m     name, count \u001b[39m=\u001b[39m name_plus_count(name)\n\u001b[0;32m--> <a href='file:///home/hooninator/Exo/exo/lib/python3.10/site-packages/exo/API.py?line=355'>356</a>\u001b[0m     \u001b[39mif\u001b[39;00m \u001b[39mnot\u001b[39;00m \u001b[39missubclass\u001b[39;49m(memory_type, Memory):\n\u001b[1;32m    <a href='file:///home/hooninator/Exo/exo/lib/python3.10/site-packages/exo/API.py?line=356'>357</a>\u001b[0m         \u001b[39mraise\u001b[39;00m \u001b[39mTypeError\u001b[39;00m(\u001b[39m\"\u001b[39m\u001b[39mexpected second argument to set_memory() to \u001b[39m\u001b[39m\"\u001b[39m\n\u001b[1;32m    <a href='file:///home/hooninator/Exo/exo/lib/python3.10/site-packages/exo/API.py?line=357'>358</a>\u001b[0m                         \u001b[39m\"\u001b[39m\u001b[39mbe a Memory object\u001b[39m\u001b[39m\"\u001b[39m)\n\u001b[1;32m    <a href='file:///home/hooninator/Exo/exo/lib/python3.10/site-packages/exo/API.py?line=359'>360</a>\u001b[0m     loopir \u001b[39m=\u001b[39m \u001b[39mself\u001b[39m\u001b[39m.\u001b[39m_loopir_proc\n",
      "File \u001b[0;32m/usr/lib/python3.10/abc.py:123\u001b[0m, in \u001b[0;36mABCMeta.__subclasscheck__\u001b[0;34m(cls, subclass)\u001b[0m\n\u001b[1;32m    <a href='file:///usr/lib/python3.10/abc.py?line=120'>121</a>\u001b[0m \u001b[39mdef\u001b[39;00m \u001b[39m__subclasscheck__\u001b[39m(\u001b[39mcls\u001b[39m, subclass):\n\u001b[1;32m    <a href='file:///usr/lib/python3.10/abc.py?line=121'>122</a>\u001b[0m     \u001b[39m\"\"\"Override for issubclass(subclass, cls).\"\"\"\u001b[39;00m\n\u001b[0;32m--> <a href='file:///usr/lib/python3.10/abc.py?line=122'>123</a>\u001b[0m     \u001b[39mreturn\u001b[39;00m _abc_subclasscheck(\u001b[39mcls\u001b[39;49m, subclass)\n",
      "\u001b[0;31mTypeError\u001b[0m: issubclass() arg 1 must be a class"
     ]
    }
   ],
   "source": [
    "for M in range(1, M_REG_BLK+1):\n",
    "    sgemm_kernel_avx512_Mx4[M] = (\n",
    "        basic_kernel_Mx4[M]\n",
    "            .rename(f'sgemm_kernel_avx512_{M}x4')\n",
    "            .split('j', VEC_W, ['jo', 'ji'], perfect=True)\n",
    "            # Mark k as a reduction loop\n",
    "            .par_to_seq('for k in _: _')\n",
    "            # Stage C for reduction\n",
    "            .stage_assn('C_reg', 'C[_] += _')\n",
    "            .lift_alloc('C_reg: _', n_lifts=4)\n",
    "            .double_fission('C_reg[_] = C[_]', 'C_reg[_] += _', n_lifts=4)\n",
    "            .stage_expr('A_vec', 'A[_, _]', memory=AVX512)\n",
    "            .stage_expr('B_vec', 'B[_, _]', memory=AVX512)\n",
    "    )\n",
    "print_output(sgemm_kernel_avx512_Mx4[1])"
   ]
  },
  {
   "cell_type": "code",
   "execution_count": null,
   "metadata": {},
   "outputs": [],
   "source": []
  }
 ],
 "metadata": {
  "interpreter": {
   "hash": "cfcf57d6ae59e4d2bb98893a51e38ba5a7224cc175410b3cafee5a761b26a0c2"
  },
  "kernelspec": {
   "display_name": "Python 3.10.4 ('exo': venv)",
   "language": "python",
   "name": "python3"
  },
  "language_info": {
   "codemirror_mode": {
    "name": "ipython",
    "version": 3
   },
   "file_extension": ".py",
   "mimetype": "text/x-python",
   "name": "python",
   "nbconvert_exporter": "python",
   "pygments_lexer": "ipython3",
   "version": "3.10.4"
  },
  "orig_nbformat": 4
 },
 "nbformat": 4,
 "nbformat_minor": 2
}
